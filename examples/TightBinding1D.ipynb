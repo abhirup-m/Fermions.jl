{
 "cells": [
  {
   "cell_type": "code",
   "execution_count": null,
   "id": "5a68ce51-a02c-43a1-a9d3-686c54ea7240",
   "metadata": {},
   "outputs": [],
   "source": [
    "using fermions, Plots, Measures, ProgressMeter\n",
    "Plots.theme(:dark)"
   ]
  },
  {
   "cell_type": "code",
   "execution_count": null,
   "id": "5817ade0-0edb-4250-809d-3adf275be82c",
   "metadata": {},
   "outputs": [],
   "source": [
    "function TightBindHamiltonian(numSites)\n",
    "    hamiltonianTerms = Tuple{String, Vector{Int64}, Float64}[]\n",
    "    for i in 1:numSites-1\n",
    "        term1 = (\"+-\", [i, i+1], 1.0)\n",
    "        term2 = (\"+-\", [i+1, i], 1.0)\n",
    "        push!(hamiltonianTerms, term1)\n",
    "        push!(hamiltonianTerms, term2)\n",
    "    end\n",
    "    return hamiltonianTerms\n",
    "end"
   ]
  },
  {
   "cell_type": "code",
   "execution_count": null,
   "id": "6cff42d6-6c23-4d2d-8dac-26ca3903eedc",
   "metadata": {},
   "outputs": [],
   "source": [
    "numSites = 200\n",
    "basis_N = fermions.BasisStates(numSites, 1)\n",
    "eigvals_N, eigvecs_N = fermions.Spectrum(TightBindHamiltonian(numSites), basis_N);"
   ]
  },
  {
   "cell_type": "code",
   "execution_count": null,
   "id": "f14b1287-7bf0-40a8-b506-c80c7c2a3cb8",
   "metadata": {},
   "outputs": [],
   "source": [
    "@time SEE = fetch.(@showprogress [Threads.@spawn fermions.vnEntropy(eigvecs_N[1], collect(i-4:i+4)) for i in 5:numSites-4])\n",
    "Plots.plot(SEE, thickness_scaling=1.4, linewidth=3, legend=false,\n",
    "        xlabel=\"subsystem size\", ylabel=\"subsystem entanglement\", margin=-1mm)"
   ]
  },
  {
   "cell_type": "code",
   "execution_count": null,
   "id": "d7be507f-5fef-4380-8c80-74194e792d57",
   "metadata": {},
   "outputs": [],
   "source": [
    "invTempRange = (10 .^ range(-0.5, stop=3.1, length=20)) ./ (maximum(eigvals_N) - minimum(eigvals_N))\n",
    "leftOccOperator = [(\"n\", [1], 1.0)]\n",
    "leftOccAverage = @showprogress [fermions.ThermalAverage(eigvecs_N, eigvals_N, leftOccOperator, beta) for beta in invTempRange]\n",
    "centerOccOperator = [(\"n\", [div(numSites, 2)], 1.0)]\n",
    "centerOccAverage = @showprogress [fermions.ThermalAverage(eigvecs_N, eigvals_N, centerOccOperator, beta) for beta in invTempRange]\n",
    "Plots.plot(1 ./ invTempRange, [leftOccAverage, centerOccAverage];\n",
    "    thickness_scaling=1.5, linewidth=3, \n",
    "    xaxis=:log10, xlabel=\"temp. / \\$\\\\Delta E\\$\", ylabel=\"local occupancy\", \n",
    "    labels=[\"left edge\" \"center\"], leftmargin=-5mm, bottommargin=-3mm)"
   ]
  },
  {
   "cell_type": "code",
   "execution_count": null,
   "id": "7dab6f84-14b2-4b1e-8cf7-53b88ca15dcd",
   "metadata": {},
   "outputs": [],
   "source": [
    "for numSites in [8, 20, 60]\n",
    "    basis_N = fermions.BasisStates(numSites, 1)#; totOccCriteria=(x,N)->sum(x) == 1)\n",
    "    basis_Nm1 = fermions.BasisStates(numSites, 0)#; totOccCriteria=(x,N)->sum(x) == 0)\n",
    "    basis_Np1 = fermions.BasisStates(numSites, 2)#; totOccCriteria=(x,N)->sum(x) == 2)\n",
    "    tightBindHam = TightBindHamiltonian(numSites)\n",
    "    eigvals_N, eigvecs_N = fermions.Spectrum(tightBindHam, basis_N)\n",
    "    eigvals_Nm1, eigvecs_Nm1 = fermions.Spectrum(tightBindHam, basis_Nm1)\n",
    "    eigvals_Np1, eigvecs_Np1 = fermions.Spectrum(tightBindHam, basis_Np1)\n",
    "    freqArr = collect(range(-2.2, stop=2.2, step=0.01))\n",
    "    probe = [(\"-\", [div(numSites, 2)], 1.0)]\n",
    "    probeDag = [(\"+\", [div(numSites, 2)], 1.0)]\n",
    "    specfunc = fermions.SpecFunc((eigvals_N[1], eigvecs_N[1]), [eigvals_Nm1; eigvals_Np1], \n",
    "        [eigvecs_Nm1; eigvecs_Np1], probe, probeDag, freqArr, 1e-2)\n",
    "    p = Plots.plot(freqArr, specfunc, thickness_scaling=1.5, linewidth=2, legend=false, \n",
    "        xlabel=\"frequency \\$\\\\omega\\$\", ylabel=\"spectral func. \\$A(\\\\omega)\\$\", margin=-2mm)\n",
    "    display(p)\n",
    "end"
   ]
  },
  {
   "cell_type": "code",
   "execution_count": null,
   "id": "706a824f-8c59-4d2b-8e6e-935fa0c168ce",
   "metadata": {},
   "outputs": [],
   "source": []
  }
 ],
 "metadata": {
  "kernelspec": {
   "display_name": "Julia 1.10.4",
   "language": "julia",
   "name": "julia-1.10"
  },
  "language_info": {
   "file_extension": ".jl",
   "mimetype": "application/julia",
   "name": "julia",
   "version": "1.10.4"
  }
 },
 "nbformat": 4,
 "nbformat_minor": 5
}
